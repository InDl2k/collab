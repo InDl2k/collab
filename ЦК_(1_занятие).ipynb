{
  "nbformat": 4,
  "nbformat_minor": 0,
  "metadata": {
    "colab": {
      "provenance": [],
      "collapsed_sections": [],
      "authorship_tag": "ABX9TyPF+OaUMnt11AiRSDFVCiqg",
      "include_colab_link": true
    },
    "kernelspec": {
      "name": "python3",
      "display_name": "Python 3"
    },
    "language_info": {
      "name": "python"
    }
  },
  "cells": [
    {
      "cell_type": "markdown",
      "metadata": {
        "id": "view-in-github",
        "colab_type": "text"
      },
      "source": [
        "<a href=\"https://colab.research.google.com/github/InDl2k/collab/blob/main/%D0%A6%D0%9A_(1_%D0%B7%D0%B0%D0%BD%D1%8F%D1%82%D0%B8%D0%B5).ipynb\" target=\"_parent\"><img src=\"https://colab.research.google.com/assets/colab-badge.svg\" alt=\"Open In Colab\"/></a>"
      ]
    },
    {
      "cell_type": "code",
      "execution_count": 78,
      "metadata": {
        "id": "ayzIGu8OcsaB"
      },
      "outputs": [],
      "source": [
        "import pandas as pd\n",
        "import seaborn as sns\n",
        "from sklearn.preprocessing import StandardScaler\n",
        "from sklearn.linear_model import LogisticRegression\n",
        "from sklearn.metrics import confusion_matrix\n",
        "from sklearn.metrics import accuracy_score\n",
        "\n",
        "file = pd.read_csv('/content/train.csv')\n",
        "married = pd.get_dummies(file['ever_married'], drop_first=True)\n",
        "gender = pd.get_dummies(file['gender'], drop_first=True)\n",
        "work = pd.get_dummies(file['work_type'])\n",
        "resident = pd.get_dummies(file['Residence_type'], drop_first=True)\n",
        "smoke = pd.get_dummies(file['smoking_status'])\n",
        "file['bmi'].fillna(file['bmi'].mean(), inplace=True)\n",
        "file.drop(['id', 'ever_married', 'gender', 'work_type', 'Residence_type', 'smoking_status'], axis = 1, inplace = True)\n",
        "file = pd.concat([file, married, gender, work, resident, smoke], axis=1)\n",
        "\n",
        "scaler = StandardScaler()\n",
        "cols_to_scale = ['age', 'avg_glucose_level', 'bmi']\n",
        "scaler.fit(file[cols_to_scale])\n",
        "file[cols_to_scale] = scaler.transform(file[cols_to_scale])\n",
        "file.columns = file.columns.map(str)\n",
        "\n",
        "X_train = file.drop('stroke', axis=1)\n",
        "Y_train = file['stroke']\n",
        "\n",
        "model = LogisticRegression()\n",
        "model.fit(X_train, Y_train)\n",
        "LogisticRegression()\n",
        "y_pred_train = model.predict(X_train)\n",
        "\n",
        "\n",
        "conf_matrix = confusion_matrix(Y_train, y_pred_train)\n",
        "conf_matrix_df = pd.DataFrame(conf_matrix)\n",
        "conf_matrix_labels = pd.DataFrame(conf_matrix, columns =['Прогноз нету инсульта', 'Прогноз есть инсульт'], index = ['Факт нету инсульта', 'Факт есть инсульт'])\n",
        "conf_matrix_labels\n",
        "\n",
        "model_accuracy = accuracy_score(Y_train, y_pred_train)\n",
        "#print(round(model_accuracy, 3))\n",
        "\n",
        "X_test = pd.read_csv('/content/test.csv')\n",
        "married = pd.get_dummies(X_test['ever_married'], drop_first=True)\n",
        "gender = pd.get_dummies(X_test['gender'], drop_first=True)\n",
        "work = pd.get_dummies(X_test['work_type'])\n",
        "resident = pd.get_dummies(X_test['Residence_type'], drop_first=True)\n",
        "smoke = pd.get_dummies(X_test['smoking_status'])\n",
        "X_test['bmi'].fillna(X_test['bmi'].mean(), inplace=True)\n",
        "X_test.drop(['id', 'ever_married', 'gender', 'work_type', 'Residence_type', 'smoking_status'], axis = 1, inplace = True)\n",
        "X_test = pd.concat([X_test, married, gender, work, resident, smoke], axis=1)\n",
        "X_test.drop(['Other'], axis = 1, inplace = True)\n",
        "\n",
        "\n",
        "X_test[cols_to_scale] = scaler.transform(X_test[cols_to_scale])\n",
        "X_test.columns = X_test.columns.map(str)\n",
        "X_test = X_test.drop('stroke', axis=1)\n",
        "\n",
        "\n",
        "y_pred_test = model.predict(X_test)\n",
        "\n",
        "\n",
        "test = pd.read_csv('/content/test.csv')\n",
        "ids = test['id']\n",
        "result = pd.DataFrame({'id': ids, 'stroke': y_pred_test})\n",
        "result['stroke'] = result['stroke'].mask(result['stroke'].eq(0), '0');\n",
        "result.to_csv(\"result.csv\", sep=',', encoding='utf-8', index=False)"
      ]
    }
  ]
}